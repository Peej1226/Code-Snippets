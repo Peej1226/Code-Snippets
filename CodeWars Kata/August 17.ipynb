{
 "cells": [
  {
   "cell_type": "code",
   "execution_count": 16,
   "metadata": {},
   "outputs": [
    {
     "data": {
      "text/plain": [
       "2603"
      ]
     },
     "execution_count": 16,
     "metadata": {},
     "output_type": "execute_result"
    }
   ],
   "source": [
    "def find_outlier(integers):\n",
    "    even_ct = 0\n",
    "    for _ in range(3):\n",
    "        even_ct += integers[_] % 2 == 0\n",
    "    for numb in integers:\n",
    "        if even_ct == 0:\n",
    "            if numb % 2 == 0:\n",
    "                return numb\n",
    "        elif even_ct == 1:\n",
    "            if numb % 2 == 0:\n",
    "                return numb\n",
    "        elif even_ct == 2:\n",
    "            if numb % 2 == 1:\n",
    "                return numb\n",
    "        else:\n",
    "            if numb % 2 == 1:\n",
    "                return numb\n",
    "\n",
    "    return \"error\"\n",
    "\n",
    "find_outlier([2, 4, 0, 100, 4, 10, 2603, 36])"
   ]
  },
  {
   "cell_type": "code",
   "execution_count": 27,
   "metadata": {},
   "outputs": [
    {
     "name": "stdout",
     "output_type": "stream",
     "text": [
      "1\n",
      "344\n",
      "371\n"
     ]
    },
    {
     "data": {
      "text/plain": [
       "True"
      ]
     },
     "execution_count": 27,
     "metadata": {},
     "output_type": "execute_result"
    }
   ],
   "source": [
    "#  https://www.codewars.com/kata/5287e858c6b5a9678200083c/train/python\n",
    "def narcissistic( value ):\n",
    "    digit_list = []\n",
    "    process_value = value\n",
    "    while process_value > 0:\n",
    "        digit_list.append(process_value % 10)\n",
    "        process_value = process_value //10\n",
    "    for _ in digit_list:\n",
    "        process_value += _ ** len(digit_list)\n",
    "        print(process_value)\n",
    "    return process_value == value\n",
    "\n",
    "narcissistic(371)"
   ]
  }
 ],
 "metadata": {
  "kernelspec": {
   "display_name": "Python 3",
   "language": "python",
   "name": "python3"
  },
  "language_info": {
   "codemirror_mode": {
    "name": "ipython",
    "version": 3
   },
   "file_extension": ".py",
   "mimetype": "text/x-python",
   "name": "python",
   "nbconvert_exporter": "python",
   "pygments_lexer": "ipython3",
   "version": "3.7.4"
  }
 },
 "nbformat": 4,
 "nbformat_minor": 4
}
