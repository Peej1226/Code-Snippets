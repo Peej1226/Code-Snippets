{
 "cells": [
  {
   "cell_type": "code",
   "execution_count": 1,
   "metadata": {},
   "outputs": [
    {
     "name": "stdout",
     "output_type": "stream",
     "text": [
      "elli altı\n"
     ]
    }
   ],
   "source": [
    "def get_turkish_number(num):\n",
    "    ones = [\"sıfır\",\n",
    "            \"bir\",\n",
    "            \"iki\",\n",
    "            \"üç\",\n",
    "            \"dört\",\n",
    "            \"beş\",\n",
    "            \"altı\",\n",
    "            \"yedi\",\n",
    "            \"sekiz\",\n",
    "            \"dokuz\"\n",
    "           ]\n",
    "    tens = [\"\",\n",
    "            \"on \",\n",
    "            \"yirmi \",\n",
    "            \"otuz \",\n",
    "            \"kırk \",\n",
    "            \"elli \",\n",
    "            \"altmış \",\n",
    "            \"yetmiş \",\n",
    "            \"seksen \",\n",
    "            \"doksan \"\n",
    "           ]\n",
    "    if num > 9:\n",
    "        ones[0] = \"\"\n",
    "    s1 = tens[num // 10] + ones[num % 10]\n",
    "    return s1.strip()\n",
    "\n",
    "print(get_turkish_number(56))"
   ]
  },
  {
   "cell_type": "code",
   "execution_count": null,
   "metadata": {},
   "outputs": [],
   "source": []
  }
 ],
 "metadata": {
  "kernelspec": {
   "display_name": "Python 3",
   "language": "python",
   "name": "python3"
  },
  "language_info": {
   "codemirror_mode": {
    "name": "ipython",
    "version": 3
   },
   "file_extension": ".py",
   "mimetype": "text/x-python",
   "name": "python",
   "nbconvert_exporter": "python",
   "pygments_lexer": "ipython3",
   "version": "3.7.4"
  }
 },
 "nbformat": 4,
 "nbformat_minor": 4
}
