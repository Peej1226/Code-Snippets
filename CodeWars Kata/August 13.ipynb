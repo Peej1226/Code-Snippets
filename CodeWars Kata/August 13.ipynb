{
 "cells": [
  {
   "cell_type": "code",
   "execution_count": 1,
   "metadata": {},
   "outputs": [
    {
     "name": "stdout",
     "output_type": "stream",
     "text": [
      "elli altı\n"
     ]
    }
   ],
   "source": [
    "def get_turkish_number(num):\n",
    "    ones = [\"sıfır\",\n",
    "            \"bir\",\n",
    "            \"iki\",\n",
    "            \"üç\",\n",
    "            \"dört\",\n",
    "            \"beş\",\n",
    "            \"altı\",\n",
    "            \"yedi\",\n",
    "            \"sekiz\",\n",
    "            \"dokuz\"\n",
    "           ]\n",
    "    tens = [\"\",\n",
    "            \"on \",\n",
    "            \"yirmi \",\n",
    "            \"otuz \",\n",
    "            \"kırk \",\n",
    "            \"elli \",\n",
    "            \"altmış \",\n",
    "            \"yetmiş \",\n",
    "            \"seksen \",\n",
    "            \"doksan \"\n",
    "           ]\n",
    "    if num > 9:\n",
    "        ones[0] = \"\"\n",
    "    s1 = tens[num // 10] + ones[num % 10]\n",
    "    return s1.strip()\n",
    "\n",
    "print(get_turkish_number(56))"
   ]
  },
  {
   "cell_type": "code",
   "execution_count": 32,
   "metadata": {},
   "outputs": [
    {
     "name": "stdout",
     "output_type": "stream",
     "text": [
      "s1 is <class 'list'>\n",
      "['a', 'an', 'an', 'data', 'is', 'iterator', 'object', 'of', 'representing', 'stream']\n",
      "t1 is <class 'tuple'>\n",
      "l1 is <class 'list'>\n",
      "['a', 'an', 'an', 'data', 'is', 'iterator', 'object', 'of', 'representing', 'stream']\n",
      "a\n",
      "an\n",
      "an\n",
      "data\n",
      "is\n",
      "iterator\n",
      "object\n",
      "of\n",
      "representing\n",
      "stream\n",
      "\n",
      "{'is', 'object', 'data', 'representing', 'of', 'iterator', 'an', 'stream', 'a'}\n"
     ]
    }
   ],
   "source": [
    "# for some reason this doesn't work right\n",
    "s1 = \"an iterator is an object representing a stream of data\".split(\" \")\n",
    "s1.sort()\n",
    "print(\"s1 is\", type(s1))\n",
    "print(s1)\n",
    "t1 = tuple(s1)\n",
    "print(\"t1 is\",type(t1))\n",
    "l1 = (sorted(t1))\n",
    "print(\"l1 is\",type(l1))\n",
    "\n",
    "print(l1)\n",
    "wordSet1 = set(l1)\n",
    "for _ in l1:\n",
    "    print(_)\n",
    "print()\n",
    "print(wordSet1)\n",
    "\n"
   ]
  },
  {
   "cell_type": "code",
   "execution_count": null,
   "metadata": {},
   "outputs": [],
   "source": []
  },
  {
   "cell_type": "code",
   "execution_count": 54,
   "metadata": {},
   "outputs": [
    {
     "name": "stdout",
     "output_type": "stream",
     "text": [
      "<class 'list'> 10\n",
      "('an', 'iterator', 'is', 'an', 'object', 'representing', 'a', 'stream', 'of', 'data') 10 fuck\n",
      "<class 'tuple'>\n",
      "(['an', 'iterator', 'is', 'an', 'object', 'representing', 'a', 'stream', 'of', 'data'],)\n",
      "[['an', 'iterator', 'is', 'an', 'object', 'representing', 'a', 'stream', 'of', 'data']]\n",
      "<class 'list'>\n"
     ]
    },
    {
     "ename": "TypeError",
     "evalue": "unhashable type: 'list'",
     "output_type": "error",
     "traceback": [
      "\u001b[1;31m---------------------------------------------------------------------------\u001b[0m",
      "\u001b[1;31mTypeError\u001b[0m                                 Traceback (most recent call last)",
      "\u001b[1;32m<ipython-input-54-2ae0f1d723d0>\u001b[0m in \u001b[0;36m<module>\u001b[1;34m\u001b[0m\n\u001b[0;32m     20\u001b[0m \u001b[0mprint\u001b[0m\u001b[1;33m(\u001b[0m\u001b[0mt1\u001b[0m\u001b[1;33m,\u001b[0m \u001b[0mlen\u001b[0m\u001b[1;33m(\u001b[0m\u001b[0mt1\u001b[0m\u001b[1;33m)\u001b[0m\u001b[1;33m,\u001b[0m \u001b[1;34m'fuck'\u001b[0m\u001b[1;33m)\u001b[0m\u001b[1;33m\u001b[0m\u001b[1;33m\u001b[0m\u001b[0m\n\u001b[0;32m     21\u001b[0m \u001b[1;33m\u001b[0m\u001b[0m\n\u001b[1;32m---> 22\u001b[1;33m \u001b[0mbuild_trie\u001b[0m\u001b[1;33m(\u001b[0m\u001b[0ms1\u001b[0m\u001b[1;33m)\u001b[0m\u001b[1;33m\u001b[0m\u001b[1;33m\u001b[0m\u001b[0m\n\u001b[0m",
      "\u001b[1;32m<ipython-input-54-2ae0f1d723d0>\u001b[0m in \u001b[0;36mbuild_trie\u001b[1;34m(*words)\u001b[0m\n\u001b[0;32m      6\u001b[0m     \u001b[0mwordList1\u001b[0m\u001b[1;33m.\u001b[0m\u001b[0msort\u001b[0m\u001b[1;33m(\u001b[0m\u001b[1;33m)\u001b[0m\u001b[1;33m\u001b[0m\u001b[1;33m\u001b[0m\u001b[0m\n\u001b[0;32m      7\u001b[0m     \u001b[0mprint\u001b[0m\u001b[1;33m(\u001b[0m\u001b[0mtype\u001b[0m\u001b[1;33m(\u001b[0m\u001b[0mwordList1\u001b[0m\u001b[1;33m)\u001b[0m\u001b[1;33m)\u001b[0m\u001b[1;33m\u001b[0m\u001b[1;33m\u001b[0m\u001b[0m\n\u001b[1;32m----> 8\u001b[1;33m     \u001b[0mwordSet1\u001b[0m \u001b[1;33m=\u001b[0m \u001b[0mset\u001b[0m\u001b[1;33m(\u001b[0m\u001b[0mwordList1\u001b[0m\u001b[1;33m)\u001b[0m\u001b[1;33m\u001b[0m\u001b[1;33m\u001b[0m\u001b[0m\n\u001b[0m\u001b[0;32m      9\u001b[0m     \u001b[0mprint\u001b[0m\u001b[1;33m(\u001b[0m\u001b[0mtype\u001b[0m\u001b[1;33m(\u001b[0m\u001b[0mwordSet1\u001b[0m\u001b[1;33m)\u001b[0m\u001b[1;33m)\u001b[0m\u001b[1;33m\u001b[0m\u001b[1;33m\u001b[0m\u001b[0m\n\u001b[0;32m     10\u001b[0m     \u001b[1;32mfor\u001b[0m \u001b[0mval\u001b[0m \u001b[1;32min\u001b[0m \u001b[0mwordSet1\u001b[0m\u001b[1;33m:\u001b[0m\u001b[1;33m\u001b[0m\u001b[1;33m\u001b[0m\u001b[0m\n",
      "\u001b[1;31mTypeError\u001b[0m: unhashable type: 'list'"
     ]
    }
   ],
   "source": [
    "def build_trie(*words):\n",
    "    print(type(words))\n",
    "    print(words)\n",
    "    wordList1 = list(words)\n",
    "    print(wordList1)\n",
    "    wordList1.sort()\n",
    "    print(type(wordList1))\n",
    "    wordSet1 = set(wordList1)\n",
    "    print(type(wordSet1))\n",
    "    for val in wordSet1:\n",
    "        print(val, \" word \")\n",
    "    print()\n",
    "    print(wordSet1)\n",
    "    return \"Implement me! :)\"\n",
    "\n",
    "\n",
    "s1 = \"an iterator is an object representing a stream of data\".split()\n",
    "print(type(s1), len(s1))\n",
    "t1 = tuple(s1)\n",
    "print(t1, len(t1), 'fuck')\n",
    "\n",
    "build_trie(s1)"
   ]
  },
  {
   "cell_type": "code",
   "execution_count": 46,
   "metadata": {},
   "outputs": [
    {
     "name": "stdout",
     "output_type": "stream",
     "text": [
      "i\n",
      "p\n",
      "n\n",
      "o\n",
      "t\n",
      "s\n",
      "u\n",
      "r\n",
      "l\n",
      "a\n"
     ]
    }
   ],
   "source": [
    "set_inp = {'t','u','t','o','r','i','a','l','s','p','o','i','n','t'}\n",
    "\n",
    "# Iterate over the set\n",
    "for value in set_inp:\n",
    "   print(value)"
   ]
  },
  {
   "cell_type": "code",
   "execution_count": 68,
   "metadata": {},
   "outputs": [
    {
     "name": "stdout",
     "output_type": "stream",
     "text": [
      "s1 is length 19 <class 'list'>\n",
      "['I', 'am', 'trying', 'to', 'create', 'a', 'list', 'of', 'sorted', 'words', 'from', 'a', 'sentance', 'of', 'words', 'with', 'no', 'repeat', 'words'] \n",
      "\n",
      "s1 is length 19 <class 'list'>\n",
      "['I', 'a', 'a', 'am', 'create', 'from', 'list', 'no', 'of', 'of', 'repeat', 'sentance', 'sorted', 'to', 'trying', 'with', 'words', 'words', 'words'] \n",
      "\n",
      "with\n",
      "list\n",
      "trying\n",
      "repeat\n",
      "create\n",
      "I\n",
      "sorted\n",
      "to\n",
      "words\n",
      "of\n",
      "am\n",
      "no\n",
      "sentance\n",
      "from\n",
      "a\n",
      "\n",
      "{'with', 'list', 'trying', 'repeat', 'create', 'I', 'sorted', 'to', 'words', 'of', 'am', 'no', 'sentance', 'from', 'a'}\n"
     ]
    }
   ],
   "source": [
    "# for some reason this doesn't work right\n",
    "s1 = \"I am trying to create a list of sorted words from a sentance of words with no repeat words\".split()\n",
    "\n",
    "print(\"s1 is length\", len(s1),type(s1))\n",
    "print(s1, \"\\n\")\n",
    "\n",
    "s1.sort()\n",
    "print(\"s1 is length\", len(s1),type(s1))\n",
    "print(s1, \"\\n\")\n",
    "\n",
    "wordSet1 = set(s1)\n",
    "for _ in wordSet1:\n",
    "    print(_)\n",
    "print()\n",
    "print(wordSet1)"
   ]
  },
  {
   "cell_type": "code",
   "execution_count": 84,
   "metadata": {},
   "outputs": [
    {
     "name": "stdout",
     "output_type": "stream",
     "text": [
      "{'a': {...}}\n",
      "{'a': {...}, 'an': {...}}\n",
      "{'a': {...}, 'an': {...}, 'data': {...}}\n",
      "{'a': {...}, 'an': {...}, 'data': {...}, 'is': {...}}\n",
      "{'a': {...}, 'an': {...}, 'data': {...}, 'is': {...}, 'issue': {...}}\n",
      "{'a': {...}, 'an': {...}, 'data': {...}, 'is': {...}, 'issue': {...}, 'iterator': {...}}\n",
      "{'a': {...}, 'an': {...}, 'data': {...}, 'is': {...}, 'issue': {...}, 'iterator': {...}, 'object': {...}}\n",
      "{'a': {...}, 'an': {...}, 'data': {...}, 'is': {...}, 'issue': {...}, 'iterator': {...}, 'object': {...}, 'of': {...}}\n",
      "{'a': {...}, 'an': {...}, 'data': {...}, 'is': {...}, 'issue': {...}, 'iterator': {...}, 'object': {...}, 'of': {...}, 'representing': {...}}\n",
      "{'a': {...}, 'an': {...}, 'data': {...}, 'is': {...}, 'issue': {...}, 'iterator': {...}, 'object': {...}, 'of': {...}, 'representing': {...}, 'stop': {...}}\n",
      "{'a': {...}, 'an': {...}, 'data': {...}, 'is': {...}, 'issue': {...}, 'iterator': {...}, 'object': {...}, 'of': {...}, 'representing': {...}, 'stop': {...}, 'stream': {...}}\n",
      "{'a': {...}, 'an': {...}, 'data': {...}, 'is': {...}, 'issue': {...}, 'iterator': {...}, 'object': {...}, 'of': {...}, 'representing': {...}, 'stop': {...}, 'stream': {...}, 'street': {...}}\n",
      "{'a': {...}, 'an': {...}, 'data': {...}, 'is': {...}, 'issue': {...}, 'iterator': {...}, 'object': {...}, 'of': {...}, 'representing': {...}, 'stop': {...}, 'stream': {...}, 'street': {...}}\n"
     ]
    },
    {
     "data": {
      "text/plain": [
       "'Implement me! :)'"
      ]
     },
     "execution_count": 84,
     "metadata": {},
     "output_type": "execute_result"
    }
   ],
   "source": [
    "def build_trie(*words):\n",
    "    l1 = list(set(words))\n",
    "    l1.sort()\n",
    "#     print(l1)\n",
    "    d1 = dict()\n",
    "#     for _ in reversed(l1):\n",
    "    for _ in (l1):\n",
    "        d1 = d1[_] = d1\n",
    "        print(d1)\n",
    "#         for pre in _:\n",
    "#             print(_, pre)\n",
    "    print(d1)\n",
    "    return \"Implement me! :)\"\n",
    "\n",
    "\n",
    "# s1 = \"an iterator is an object representing a stream of data\".split()\n",
    "build_trie('an', 'iterator', 'is', 'issue', 'stop', 'street', 'an', 'object', 'representing', 'a', 'stream', 'of', 'data')\n"
   ]
  }
 ],
 "metadata": {
  "kernelspec": {
   "display_name": "Python 3",
   "language": "python",
   "name": "python3"
  },
  "language_info": {
   "codemirror_mode": {
    "name": "ipython",
    "version": 3
   },
   "file_extension": ".py",
   "mimetype": "text/x-python",
   "name": "python",
   "nbconvert_exporter": "python",
   "pygments_lexer": "ipython3",
   "version": "3.7.4"
  }
 },
 "nbformat": 4,
 "nbformat_minor": 4
}
